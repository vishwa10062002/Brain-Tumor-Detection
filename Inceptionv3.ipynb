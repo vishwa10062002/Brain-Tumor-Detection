{
 "cells": [
  {
   "cell_type": "code",
   "execution_count": 24,
   "id": "8d73f5ec",
   "metadata": {},
   "outputs": [],
   "source": [
    "import warnings\n",
    "warnings.filterwarnings('ignore')\n",
    "import numpy as np\n",
    "import pandas as pd\n",
    "import matplotlib.pyplot as plt\n",
    "import os\n",
    "import math\n",
    "import shutil\n",
    "import glob\n",
    "import cv2\n",
    "import imutils \n",
    "import seaborn as sns\n",
    "from sklearn.utils import shuffle\n",
    "import tensorflow as tf\n",
    "from tensorflow.keras.preprocessing.image import load_img\n",
    "from keras.preprocessing.image import ImageDataGenerator\n",
    "from keras.layers import Conv2D, MaxPool2D, Dropout, Flatten, Dense, BatchNormalization, GlobalAveragePooling2D\n",
    "from keras.models import Model, Sequential\n",
    "import keras"
   ]
  },
  {
   "cell_type": "code",
   "execution_count": 16,
   "id": "0e802013",
   "metadata": {},
   "outputs": [
    {
     "data": {
      "text/plain": [
       "{'no': 2500, 'yes': 2764}"
      ]
     },
     "execution_count": 16,
     "metadata": {},
     "output_type": "execute_result"
    }
   ],
   "source": [
    "#Count images in the two folders: yes (Tumor) and no (Healthey)\n",
    "data_dir =  'D:/Vishwa_clg/Brain Tumor/Dataset'\n",
    "dict_img = {}\n",
    "for dir in os.listdir(data_dir):\n",
    "  dict_img[dir] = len(os.listdir(os.path.join(data_dir, dir)))\n",
    "dict_img"
   ]
  },
  {
   "cell_type": "code",
   "execution_count": 17,
   "id": "4a051d0f",
   "metadata": {},
   "outputs": [
    {
     "name": "stdout",
     "output_type": "stream",
     "text": [
      "Found 4212 images belonging to 2 classes.\n",
      "Found 1052 images belonging to 2 classes.\n",
      "\n",
      "\n",
      " {'No_brain_tumor_cases': 2500, 'brain_tumor_cases': 2764}\n"
     ]
    }
   ],
   "source": [
    "height, width = 224, 224\n",
    "batch_size=64\n",
    "def image_generator(height,width):\n",
    "    datagen = ImageDataGenerator(\n",
    "            rescale=1./255.,\n",
    "            validation_split=0.2,\n",
    "            )\n",
    "    train_ds = datagen.flow_from_directory(\n",
    "            data_dir,\n",
    "            batch_size=batch_size,\n",
    "            subset=\"training\",\n",
    "            #color_mode = 'grayscale',\n",
    "            shuffle=True,\n",
    "            class_mode='binary',\n",
    "            target_size=(height, width),\n",
    "            classes={'no': 0., 'yes': 1.}\n",
    "            )\n",
    "    val_ds = datagen.flow_from_directory(\n",
    "              data_dir,\n",
    "              subset=\"validation\",\n",
    "              #seed=123,\n",
    "              #color_mode = 'grayscale',\n",
    "              class_mode='binary',\n",
    "              target_size=(height, width),\n",
    "              batch_size=batch_size,\n",
    "            classes={'no': 0., 'yes': 1.}\n",
    "            )\n",
    "    return train_ds, val_ds\n",
    "\n",
    "train_ds, val_ds = image_generator(height, width)\n",
    "\n",
    "total_image = np.concatenate([train_ds.labels,val_ds.labels])\n",
    "print('\\n\\n',{'No_brain_tumor_cases':len(np.where(total_image==0)[0]),\n",
    "      'brain_tumor_cases':len(np.where(total_image==1)[0])})"
   ]
  },
  {
   "cell_type": "code",
   "execution_count": 18,
   "id": "6545049c",
   "metadata": {},
   "outputs": [],
   "source": [
    "#Define a function that crop tha brain contour\n",
    "def crop_brain_contour(image, plot=False):\n",
    "    \n",
    "    #Convert the image to grayscale, and blur it slightly\n",
    "    gray = cv2.cvtColor(image, cv2.COLOR_BGR2GRAY)\n",
    "    gray = cv2.GaussianBlur(gray, (5, 5), 0)\n",
    "    \n",
    "    thresh = cv2.threshold(gray, 45, 255, cv2.THRESH_BINARY)[1]\n",
    "    thresh = cv2.erode(thresh, None, iterations=2)\n",
    "    thresh = cv2.dilate(thresh, None, iterations=2)\n",
    "\n",
    "    #Find contours in thresholded image, then grab the largest one\n",
    "    cnts = cv2.findContours(thresh.copy(), cv2.RETR_EXTERNAL, cv2.CHAIN_APPROX_SIMPLE)\n",
    "    cnts = imutils.grab_contours(cnts)\n",
    "    c = max(cnts, key=cv2.contourArea)\n",
    "\n",
    "    #Extreme points\n",
    "    extLeft = tuple(c[c[:, :, 0].argmin()][0])\n",
    "    extRight = tuple(c[c[:, :, 0].argmax()][0])\n",
    "    extTop = tuple(c[c[:, :, 1].argmin()][0])\n",
    "    extBot = tuple(c[c[:, :, 1].argmax()][0])\n",
    "    \n",
    "    #Crop new image out of the original image using the four extreme points (left, right, top, bottom)\n",
    "    new_image = image[extTop[1]:extBot[1], extLeft[0]:extRight[0]]            \n",
    "\n",
    "    if plot:\n",
    "        plt.figure()\n",
    "        plt.subplot(1, 2, 1)\n",
    "        plt.imshow(image)\n",
    "        plt.tick_params(axis='both', which='both', top=False, bottom=False, left=False, right=False,labelbottom=False, labeltop=False, labelleft=False, labelright=False)\n",
    "        plt.title('Original Image')\n",
    "        plt.subplot(1, 2, 2)\n",
    "        plt.imshow(new_image)\n",
    "        plt.tick_params(axis='both', which='both',top=False, bottom=False, left=False, right=False,labelbottom=False, labeltop=False, labelleft=False, labelright=False)\n",
    "        plt.title('Cropped Image')\n",
    "        plt.show()\n",
    "    \n",
    "    return new_image"
   ]
  },
  {
   "cell_type": "code",
   "execution_count": 21,
   "id": "b777efcd",
   "metadata": {},
   "outputs": [
    {
     "name": "stdout",
     "output_type": "stream",
     "text": [
      "Found 4212 images belonging to 2 classes.\n",
      "Found 1052 images belonging to 2 classes.\n",
      "Downloading data from https://storage.googleapis.com/tensorflow/keras-applications/inception_v3/inception_v3_weights_tf_dim_ordering_tf_kernels_notop.h5\n",
      "87910968/87910968 [==============================] - 36s 0us/step\n",
      "Model: \"sequential\"\n",
      "_________________________________________________________________\n",
      " Layer (type)                Output Shape              Param #   \n",
      "=================================================================\n",
      " inception_v3 (Functional)   (None, 8, 8, 2048)        21802784  \n",
      "                                                                 \n",
      " flatten (Flatten)           (None, 131072)            0         \n",
      "                                                                 \n",
      " dense (Dense)               (None, 1)                 131073    \n",
      "                                                                 \n",
      "=================================================================\n",
      "Total params: 21,933,857\n",
      "Trainable params: 131,073\n",
      "Non-trainable params: 21,802,784\n",
      "_________________________________________________________________\n"
     ]
    }
   ],
   "source": [
    "# inception v3\n",
    "height = 299\n",
    "width = 299\n",
    "\n",
    "train_ds, val_ds = image_generator(height,width)\n",
    "\n",
    "tf.keras.backend.clear_session()\n",
    "input_shape = (height, width, 3)\n",
    "base_model = tf.keras.applications.InceptionV3(\n",
    "    weights='imagenet', \n",
    "    include_top=False, \n",
    "    input_shape=input_shape\n",
    ")\n",
    "base_model.trainable = False\n",
    "\n",
    "model_inceptionv3 = tf.keras.Sequential()\n",
    "model_inceptionv3.add(base_model)\n",
    "model_inceptionv3.add(tf.keras.layers.Flatten())\n",
    "model_inceptionv3.add(tf.keras.layers.Dense(1, activation='sigmoid'))\n",
    "\n",
    "model_inceptionv3.compile(\n",
    "                    loss='binary_crossentropy', \n",
    "                    optimizer=tf.keras.optimizers.Adam(0.001),\n",
    "                    metrics=['acc']\n",
    ")\n",
    "model_inceptionv3.summary()"
   ]
  },
  {
   "cell_type": "code",
   "execution_count": 22,
   "id": "d224b19e",
   "metadata": {},
   "outputs": [
    {
     "name": "stdout",
     "output_type": "stream",
     "text": [
      "Epoch 1/25\n",
      "66/66 [==============================] - ETA: 0s - loss: 0.7975 - acc: 0.9091\n",
      "Epoch 1: acc improved from -inf to 0.90907, saving model to model\\inceptionv3_best.h5\n",
      "66/66 [==============================] - 401s 6s/step - loss: 0.7975 - acc: 0.9091 - val_loss: 0.0396 - val_acc: 0.9886\n",
      "Epoch 2/25\n",
      "66/66 [==============================] - ETA: 0s - loss: 0.0256 - acc: 0.9924\n",
      "Epoch 2: acc improved from 0.90907 to 0.99240, saving model to model\\inceptionv3_best.h5\n",
      "66/66 [==============================] - 482s 7s/step - loss: 0.0256 - acc: 0.9924 - val_loss: 0.0108 - val_acc: 0.9962\n",
      "Epoch 3/25\n",
      "66/66 [==============================] - ETA: 0s - loss: 0.0037 - acc: 0.9993\n",
      "Epoch 3: acc improved from 0.99240 to 0.99929, saving model to model\\inceptionv3_best.h5\n",
      "66/66 [==============================] - 471s 7s/step - loss: 0.0037 - acc: 0.9993 - val_loss: 0.0114 - val_acc: 0.9962\n",
      "Epoch 4/25\n",
      "66/66 [==============================] - ETA: 0s - loss: 9.8060e-04 - acc: 1.0000\n",
      "Epoch 4: acc improved from 0.99929 to 1.00000, saving model to model\\inceptionv3_best.h5\n",
      "66/66 [==============================] - 471s 7s/step - loss: 9.8060e-04 - acc: 1.0000 - val_loss: 0.0075 - val_acc: 0.9981\n",
      "Epoch 5/25\n",
      "66/66 [==============================] - ETA: 0s - loss: 4.0244e-04 - acc: 1.0000\n",
      "Epoch 5: acc did not improve from 1.00000\n",
      "66/66 [==============================] - 470s 7s/step - loss: 4.0244e-04 - acc: 1.0000 - val_loss: 0.0053 - val_acc: 0.9981\n",
      "Epoch 6/25\n",
      "66/66 [==============================] - ETA: 0s - loss: 1.6311e-04 - acc: 1.0000\n",
      "Epoch 6: acc did not improve from 1.00000\n",
      "66/66 [==============================] - 473s 7s/step - loss: 1.6311e-04 - acc: 1.0000 - val_loss: 0.0062 - val_acc: 0.9981\n",
      "Epoch 7/25\n",
      "66/66 [==============================] - ETA: 0s - loss: 1.3095e-04 - acc: 1.0000\n",
      "Epoch 7: acc did not improve from 1.00000\n",
      "66/66 [==============================] - 472s 7s/step - loss: 1.3095e-04 - acc: 1.0000 - val_loss: 0.0060 - val_acc: 0.9981\n",
      "Epoch 8/25\n",
      "66/66 [==============================] - ETA: 0s - loss: 1.1211e-04 - acc: 1.0000\n",
      "Epoch 8: acc did not improve from 1.00000\n",
      "66/66 [==============================] - 471s 7s/step - loss: 1.1211e-04 - acc: 1.0000 - val_loss: 0.0064 - val_acc: 0.9981\n",
      "Epoch 9/25\n",
      "66/66 [==============================] - ETA: 0s - loss: 1.0014e-04 - acc: 1.0000\n",
      "Epoch 9: acc did not improve from 1.00000\n",
      "66/66 [==============================] - 476s 7s/step - loss: 1.0014e-04 - acc: 1.0000 - val_loss: 0.0059 - val_acc: 0.9981\n"
     ]
    }
   ],
   "source": [
    "# train inception v3\n",
    "checkpoint = tf.keras.callbacks.ModelCheckpoint('model/inceptionv3_best.h5', monitor='acc', verbose=1, mode='max',save_best_only=True)\n",
    "early = tf.keras.callbacks.EarlyStopping(monitor=\"acc\", mode=\"max\",restore_best_weights=True, patience=5)\n",
    "callbacks_list = [checkpoint,early]\n",
    "\n",
    "history = model_inceptionv3.fit(\n",
    "        train_ds,\n",
    "        validation_data=val_ds,\n",
    "        epochs=25, \n",
    "        verbose=True,\n",
    "        callbacks=callbacks_list)"
   ]
  },
  {
   "cell_type": "code",
   "execution_count": 25,
   "id": "6e702f8a",
   "metadata": {},
   "outputs": [
    {
     "name": "stdout",
     "output_type": "stream",
     "text": [
      "66/66 [==============================] - 361s 5s/step - loss: 2.6685e-04 - acc: 1.0000\n",
      "17/17 [==============================] - 104s 6s/step - loss: 0.0075 - acc: 0.9981\n"
     ]
    },
    {
     "data": {
      "text/html": [
       "<div>\n",
       "<style scoped>\n",
       "    .dataframe tbody tr th:only-of-type {\n",
       "        vertical-align: middle;\n",
       "    }\n",
       "\n",
       "    .dataframe tbody tr th {\n",
       "        vertical-align: top;\n",
       "    }\n",
       "\n",
       "    .dataframe thead th {\n",
       "        text-align: right;\n",
       "    }\n",
       "</style>\n",
       "<table border=\"1\" class=\"dataframe\">\n",
       "  <thead>\n",
       "    <tr style=\"text-align: right;\">\n",
       "      <th></th>\n",
       "      <th>Train</th>\n",
       "      <th>Val</th>\n",
       "    </tr>\n",
       "  </thead>\n",
       "  <tbody>\n",
       "    <tr>\n",
       "      <th>Loss</th>\n",
       "      <td>0.000267</td>\n",
       "      <td>0.007452</td>\n",
       "    </tr>\n",
       "    <tr>\n",
       "      <th>Acc</th>\n",
       "      <td>1.000000</td>\n",
       "      <td>0.998099</td>\n",
       "    </tr>\n",
       "  </tbody>\n",
       "</table>\n",
       "</div>"
      ],
      "text/plain": [
       "         Train       Val\n",
       "Loss  0.000267  0.007452\n",
       "Acc   1.000000  0.998099"
      ]
     },
     "execution_count": 25,
     "metadata": {},
     "output_type": "execute_result"
    }
   ],
   "source": [
    "train_result = model_inceptionv3.evaluate(train_ds)\n",
    "val_result = model_inceptionv3.evaluate(val_ds)\n",
    "\n",
    "no_augmented_df = pd.DataFrame(zip(train_result,val_result),columns=['Train','Val'],index=['Loss','Acc'])\n",
    "no_augmented_df"
   ]
  },
  {
   "cell_type": "code",
   "execution_count": 27,
   "id": "ee4af8f8",
   "metadata": {},
   "outputs": [
    {
     "data": {
      "image/png": "[encoded data removed]",
      "text/plain": [
       "<Figure size 432x288 with 1 Axes>"
      ]
     },
     "metadata": {
      "needs_background": "light"
     },
     "output_type": "display_data"
    },
    {
     "data": {
      "image/png": "[encoded data removed]",
      "text/plain": [
       "<Figure size 432x288 with 1 Axes>"
      ]
     },
     "metadata": {
      "needs_background": "light"
     },
     "output_type": "display_data"
    }
   ],
   "source": [
    "# plot learning curve\n",
    "def plot_learning_curve(history):\n",
    "    acc = history.history['acc']\n",
    "    val_acc = history.history['val_acc']\n",
    "    loss = history.history['loss']\n",
    "    val_loss = history.history['val_loss']\n",
    "    epochs = range(len(acc))\n",
    "\n",
    "    plt.plot(epochs, acc, label='training acc')\n",
    "    plt.plot(epochs, val_acc, label='validation acc')\n",
    "    plt.xlabel('Epochs')\n",
    "    plt.ylabel('Accuracy-%')\n",
    "    plt.legend()\n",
    "    plt.figure()\n",
    "\n",
    "    plt.plot(epochs, loss, label='training loss')\n",
    "    plt.plot(epochs, val_loss, label='validation loss')\n",
    "    plt.xlabel('Epochs')\n",
    "    plt.ylabel('Loss')\n",
    "    plt.legend()\n",
    "\n",
    "plot_learning_curve(history)"
   ]
  },
  {
   "cell_type": "code",
   "execution_count": 29,
   "id": "17fb3878",
   "metadata": {},
   "outputs": [
    {
     "name": "stdout",
     "output_type": "stream",
     "text": [
      "17/17 [==============================] - 91s 5s/step - loss: 0.0075 - acc: 0.9981\n",
      "The accuracy of our model is 0.9980988502502441\n"
     ]
    }
   ],
   "source": [
    "#Test our model on the test set\n",
    "from keras.models import load_model\n",
    "model = load_model('./model/inceptionv3_best.h5')\n",
    "acc = model.evaluate(val_ds)[1]\n",
    "print(f'The accuracy of our model is {acc}')"
   ]
  },
  {
   "cell_type": "code",
   "execution_count": 37,
   "id": "b2fd076e",
   "metadata": {},
   "outputs": [
    {
     "name": "stdout",
     "output_type": "stream",
     "text": [
      "1/1 [==============================] - 4s 4s/step\n",
      "The MRI image has a tumor\n"
     ]
    }
   ],
   "source": [
    "#Try our model on a random image that it has never seen before\n",
    "from tensorflow.keras.utils import img_to_array\n",
    "#Choose a MRI image with tumor\n",
    "path = \"./test/yes/gg (1).jpg\"\n",
    "img_yes = load_img(path, target_size=(299,299))\n",
    "img_array_yes = img_to_array(img_yes)/255\n",
    "img_array_yes = np.expand_dims(img_array_yes, axis=0)\n",
    "prediction1 = model.predict(img_array_yes)\n",
    "class1 = np.round(prediction1).astype(int)\n",
    "if class1 == 0:\n",
    "  print(\"The MRI image doesn't have a Tumor\")\n",
    "else:\n",
    "  print(\"The MRI image has a tumor\")"
   ]
  },
  {
   "cell_type": "code",
   "execution_count": 38,
   "id": "d59d7029",
   "metadata": {},
   "outputs": [
    {
     "name": "stdout",
     "output_type": "stream",
     "text": [
      "1/1 [==============================] - 0s 144ms/step\n",
      "The MRI image doesn't have a Tumor\n"
     ]
    }
   ],
   "source": [
    "#Try our model on a random image that it has never seen before\n",
    "from tensorflow.keras.utils import img_to_array\n",
    "#Choose a MRI image with tumor\n",
    "path = \"./test/no/1.jpg\"\n",
    "img_yes = load_img(path, target_size=(299,299))\n",
    "img_array_yes = img_to_array(img_yes)/255\n",
    "img_array_yes = np.expand_dims(img_array_yes, axis=0)\n",
    "prediction1 = model.predict(img_array_yes)\n",
    "class1 = np.round(prediction1).astype(int)\n",
    "if class1 == 0:\n",
    "  print(\"The MRI image doesn't have a Tumor\")\n",
    "else:\n",
    "  print(\"The MRI image has a tumor\")"
   ]
  },
  {
   "cell_type": "code",
   "execution_count": null,
   "id": "827754b4",
   "metadata": {},
   "outputs": [],
   "source": []
  }
 ],
 "metadata": {
  "kernelspec": {
   "display_name": "Python 3 (ipykernel)",
   "language": "python",
   "name": "python3"
  },
  "language_info": {
   "codemirror_mode": {
    "name": "ipython",
    "version": 3
   },
   "file_extension": ".py",
   "mimetype": "text/x-python",
   "name": "python",
   "nbconvert_exporter": "python",
   "pygments_lexer": "ipython3",
   "version": "3.9.12"
  }
 },
 "nbformat": 4,
 "nbformat_minor": 5
}
