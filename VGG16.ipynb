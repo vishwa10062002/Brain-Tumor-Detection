{
  "nbformat": 4,
  "nbformat_minor": 0,
  "metadata": {
    "colab": {
      "provenance": [],
      "collapsed_sections": []
    },
    "kernelspec": {
      "name": "python3",
      "display_name": "Python 3"
    },
    "language_info": {
      "name": "python"
    }
  },
  "cells": [
    {
      "cell_type": "code",
      "source": [
        "from google.colab import drive\n",
        "drive.mount('/content/drive')"
      ],
      "metadata": {
        "colab": {
          "base_uri": "https://localhost:8080/"
        },
        "id": "sljHvz3hnDrn",
        "outputId": "d9c5cf31-21ae-48bd-e408-5ea9c4525a18"
      },
      "execution_count": null,
      "outputs": [
        {
          "output_type": "stream",
          "name": "stdout",
          "text": [
            "Mounted at /content/drive\n"
          ]
        }
      ]
    },
    {
      "cell_type": "code",
      "source": [
        "#Extracting File\n",
        "import zipfile\n",
        "import os\n",
        "zip_ref = zipfile.ZipFile('/content/drive/MyDrive/Brain Tumor/Dataset.zip', 'r') #Opens the zip file in read mode\n",
        "zip_ref.extractall('/content') #Extracts the files into the /tmp folder\n",
        "zip_ref.close()"
      ],
      "metadata": {
        "id": "ngbzApwL25wG"
      },
      "execution_count": null,
      "outputs": []
    },
    {
      "cell_type": "code",
      "source": [
        "import warnings\n",
        "warnings.filterwarnings('ignore')\n",
        "import numpy as np\n",
        "import matplotlib.pyplot as plt\n",
        "import os\n",
        "import math\n",
        "import shutil\n",
        "import glob\n",
        "import cv2\n",
        "import imutils \n",
        "import torch\n",
        "import torch.nn as nn\n",
        "from torch.utils.data import DataLoader\n",
        "import torchvision\n",
        "from torchvision import datasets\n",
        "import torchvision.transforms as transforms\n",
        "from torchsummary import summary\n",
        "import seaborn as sns\n",
        "from sklearn.utils import shuffle\n",
        "from keras.preprocessing.image import ImageDataGenerator, load_img\n",
        "from keras.layers import Conv2D, MaxPool2D, Dropout, Flatten, Dense, BatchNormalization, GlobalAveragePooling2D\n",
        "from keras.models import Model, Sequential\n",
        "\n",
        "import keras\n",
        "from sklearn.metrics import accuracy_score,classification_report\n",
        "from tqdm import tqdm_notebook as tqdm\n",
        "import time\n",
        "import warnings\n",
        "warnings.simplefilter(\"ignore\")"
      ],
      "metadata": {
        "id": "1R5VfjRf3A3X"
      },
      "execution_count": null,
      "outputs": []
    },
    {
      "cell_type": "code",
      "source": [
        "root='/content/Dataset'\n",
        "num_classes=2\n",
        "IMAGE_SIZE=(240,240)\n",
        "batch_size=64\n",
        "learning_rate = 0.001\n",
        "epochs=30\n",
        "device = torch.device('cuda' if torch.cuda.is_available() else 'cpu')\n",
        "device\n",
        "dict_img = {}\n",
        "for dir in os.listdir(root):\n",
        "  dict_img[dir] = len(os.listdir(os.path.join(root, dir)))\n",
        "dict_img"
      ],
      "metadata": {
        "colab": {
          "base_uri": "https://localhost:8080/"
        },
        "id": "qVibWpZB3Cv8",
        "outputId": "41b98fef-da1b-4a15-edaf-eaaaaf957d68"
      },
      "execution_count": null,
      "outputs": [
        {
          "output_type": "execute_result",
          "data": {
            "text/plain": [
              "{'no': 2500, 'yes': 2764}"
            ]
          },
          "metadata": {},
          "execution_count": 5
        }
      ]
    },
    {
      "cell_type": "code",
      "source": [
        "#Define a function that creates new folders for the train, test and val sets and append random pictures to them based on the split percentage\n",
        "def create_folders(name, perc):\n",
        "  if not os.path.exists(\"./\"+name):\n",
        "    os.mkdir(\"./\"+name)\n",
        "    for dir in os.listdir(root):\n",
        "      os.makedirs(\"./\"+name+\"/\"+dir)\n",
        "      for img in np.random.choice(a=os.listdir(os.path.join(root, dir)), size=(math.floor(perc*dict_img[dir])), replace=False):\n",
        "        Src = os.path.join(root, dir, img)\n",
        "        Dest = os.path.join(\"./\"+name, dir)\n",
        "        shutil.copy(Src, Dest)\n",
        "        os.remove(Src)\n",
        "  else:\n",
        "    print(f\"{name} Already exists\")"
      ],
      "metadata": {
        "id": "ObMWRyxo3Foc"
      },
      "execution_count": null,
      "outputs": []
    },
    {
      "cell_type": "code",
      "source": [
        "create_folders('test', 0.15)\n",
        "create_folders('train',0.7)\n",
        "create_folders('val', 0.15)"
      ],
      "metadata": {
        "id": "7a9skXlt3I_h"
      },
      "execution_count": null,
      "outputs": []
    },
    {
      "cell_type": "code",
      "source": [
        "#Define a function that counts images in the folders: yes (Tumor) and no (Healthey)\n",
        "def count_img(folder):\n",
        "  dict_img = {}\n",
        "  for dir in os.listdir(folder):\n",
        "    dict_img[dir] = len(os.listdir(os.path.join(folder, dir)))\n",
        "  return dict_img"
      ],
      "metadata": {
        "id": "Uml-m7em3Kz9"
      },
      "execution_count": null,
      "outputs": []
    },
    {
      "cell_type": "code",
      "source": [
        "count_img('train')"
      ],
      "metadata": {
        "colab": {
          "base_uri": "https://localhost:8080/"
        },
        "id": "m1SEg1CWhmMU",
        "outputId": "a1b7524d-199d-49b6-d6b8-54ce088bbaa2"
      },
      "execution_count": null,
      "outputs": [
        {
          "output_type": "execute_result",
          "data": {
            "text/plain": [
              "{'no': 1750, 'yes': 1934}"
            ]
          },
          "metadata": {},
          "execution_count": 9
        }
      ]
    },
    {
      "cell_type": "code",
      "source": [
        "count_img('val')"
      ],
      "metadata": {
        "colab": {
          "base_uri": "https://localhost:8080/"
        },
        "id": "Ry_hlaHs3Ngt",
        "outputId": "ecfcc360-8718-4807-9bb4-37aa7c345a07"
      },
      "execution_count": null,
      "outputs": [
        {
          "output_type": "execute_result",
          "data": {
            "text/plain": [
              "{'no': 375, 'yes': 414}"
            ]
          },
          "metadata": {},
          "execution_count": 10
        }
      ]
    },
    {
      "cell_type": "code",
      "source": [
        "count_img('test')"
      ],
      "metadata": {
        "colab": {
          "base_uri": "https://localhost:8080/"
        },
        "id": "NMTF7rXb3P1e",
        "outputId": "ea7bb4fd-c3ab-4f1a-8a06-2608984c2617"
      },
      "execution_count": null,
      "outputs": [
        {
          "output_type": "execute_result",
          "data": {
            "text/plain": [
              "{'no': 375, 'yes': 414}"
            ]
          },
          "metadata": {},
          "execution_count": 11
        }
      ]
    },
    {
      "cell_type": "code",
      "source": [
        "#Define a function that crop tha brain contour\n",
        "def crop_brain_contour(image, plot=False):\n",
        "    \n",
        "    #Convert the image to grayscale, and blur it slightly\n",
        "    gray = cv2.cvtColor(image, cv2.COLOR_BGR2GRAY)\n",
        "    gray = cv2.GaussianBlur(gray, (5, 5), 0)\n",
        "    \n",
        "    thresh = cv2.threshold(gray, 45, 255, cv2.THRESH_BINARY)[1]\n",
        "    thresh = cv2.erode(thresh, None, iterations=2)\n",
        "    thresh = cv2.dilate(thresh, None, iterations=2)\n",
        "\n",
        "    #Find contours in thresholded image, then grab the largest one\n",
        "    cnts = cv2.findContours(thresh.copy(), cv2.RETR_EXTERNAL, cv2.CHAIN_APPROX_SIMPLE)\n",
        "    cnts = imutils.grab_contours(cnts)\n",
        "    c = max(cnts, key=cv2.contourArea)\n",
        "\n",
        "    #Extreme points\n",
        "    extLeft = tuple(c[c[:, :, 0].argmin()][0])\n",
        "    extRight = tuple(c[c[:, :, 0].argmax()][0])\n",
        "    extTop = tuple(c[c[:, :, 1].argmin()][0])\n",
        "    extBot = tuple(c[c[:, :, 1].argmax()][0])\n",
        "    \n",
        "    #Crop new image out of the original image using the four extreme points (left, right, top, bottom)\n",
        "    new_image = image[extTop[1]:extBot[1], extLeft[0]:extRight[0]]            \n",
        "\n",
        "    if plot:\n",
        "        plt.figure()\n",
        "        plt.subplot(1, 2, 1)\n",
        "        plt.imshow(image)\n",
        "        plt.tick_params(axis='both', which='both', top=False, bottom=False, left=False, right=False,labelbottom=False, labeltop=False, labelleft=False, labelright=False)\n",
        "        plt.title('Original Image')\n",
        "        plt.subplot(1, 2, 2)\n",
        "        plt.imshow(new_image)\n",
        "        plt.tick_params(axis='both', which='both',top=False, bottom=False, left=False, right=False,labelbottom=False, labeltop=False, labelleft=False, labelright=False)\n",
        "        plt.title('Cropped Image')\n",
        "        plt.show()\n",
        "    \n",
        "    return new_image"
      ],
      "metadata": {
        "id": "3CrCVubM3SKh"
      },
      "execution_count": null,
      "outputs": []
    },
    {
      "cell_type": "code",
      "source": [
        "#Define a function that load data\n",
        "def load_data(dir_list, image_size):\n",
        "\n",
        "    # load all images in a directory\n",
        "    X = []\n",
        "    y = []\n",
        "    \n",
        "    image_width, image_height = image_size\n",
        "    \n",
        "    for directory in dir_list:\n",
        "        for filename in os.listdir(directory):\n",
        "            image = cv2.imread(directory+'/'+filename)\n",
        "            image = crop_brain_contour(image, plot=False)\n",
        "            image = cv2.resize(image, dsize=(image_width, image_height), interpolation=cv2.INTER_CUBIC)\n",
        "            # normalize values\n",
        "            image = image / 255.\n",
        "            # convert image to numpy array and append it to X\n",
        "            X.append(image)\n",
        "            # append a value of 1 to the target array if the image\n",
        "            # is in the folder named 'yes', otherwise append 0.\n",
        "            if directory[-3:] == 'yes':\n",
        "                y.append([1])\n",
        "            else:\n",
        "                y.append([0])\n",
        "                \n",
        "    X = np.array(X)\n",
        "    y = np.array(y)\n",
        "    \n",
        "    # Shuffle the data\n",
        "    X, y = shuffle(X, y)\n",
        "    \n",
        "    print(f'Number of examples is: {len(X)}')\n",
        "    print(f'X shape is: {X.shape}')\n",
        "    print(f'y shape is: {y.shape}')\n",
        "    \n",
        "    return X, y"
      ],
      "metadata": {
        "id": "aXBbrvxA3T5l"
      },
      "execution_count": null,
      "outputs": []
    },
    {
      "cell_type": "code",
      "source": [
        "#Define a function that plot images\n",
        "def plot_sample_images(X, y, n=40):\n",
        "    for label in [0,1]:\n",
        "        # grab the first n images with the corresponding y values equal to label\n",
        "        images = X[np.argwhere(y == label)]\n",
        "        n_images = images[:n]\n",
        "        \n",
        "        columns_n = 10\n",
        "        rows_n = int(n/ columns_n)\n",
        "\n",
        "        plt.figure(figsize=(10, 8))\n",
        "        \n",
        "        i = 1 # current plot        \n",
        "        for image in n_images:\n",
        "            plt.subplot(rows_n, columns_n, i)\n",
        "            plt.imshow(image[0])\n",
        "            \n",
        "            # remove ticks\n",
        "            plt.tick_params(axis='both', which='both', \n",
        "                            top=False, bottom=False, left=False, right=False,\n",
        "                           labelbottom=False, labeltop=False, labelleft=False, labelright=False)\n",
        "            \n",
        "            i += 1\n",
        "        \n",
        "        label_to_str = lambda label: \"Yes\" if label == 1 else \"No\"\n",
        "        plt.suptitle(f\"Brain Tumor: {label_to_str(label)}\")\n",
        "        plt.show()"
      ],
      "metadata": {
        "id": "Nd_R2sTr3aa_"
      },
      "execution_count": null,
      "outputs": []
    },
    {
      "cell_type": "code",
      "source": [
        "#Load train data\n",
        "IMG_WIDTH, IMG_HEIGHT = (240, 240)\n",
        "X_train, y_train = load_data(['/content/train/yes', '/content/train/no'], (IMG_WIDTH, IMG_HEIGHT))"
      ],
      "metadata": {
        "colab": {
          "base_uri": "https://localhost:8080/"
        },
        "id": "pBRwH_NLjgPc",
        "outputId": "866f4fc8-c34c-415b-aa19-588336df8b85"
      },
      "execution_count": null,
      "outputs": [
        {
          "output_type": "stream",
          "name": "stdout",
          "text": [
            "Number of examples is: 3684\n",
            "X shape is: (3684, 240, 240, 3)\n",
            "y shape is: (3684, 1)\n"
          ]
        }
      ]
    },
    {
      "cell_type": "code",
      "source": [
        "#Load test data\n",
        "IMG_WIDTH, IMG_HEIGHT = (240, 240)\n",
        "X_test, y_test = load_data(['/content/test/yes', '/content/test/no'], (IMG_WIDTH, IMG_HEIGHT))"
      ],
      "metadata": {
        "colab": {
          "base_uri": "https://localhost:8080/"
        },
        "id": "3_1s6oBN3j8Y",
        "outputId": "153ce028-8e94-4709-94d9-76f92b0f37ad"
      },
      "execution_count": null,
      "outputs": [
        {
          "output_type": "stream",
          "name": "stdout",
          "text": [
            "Number of examples is: 789\n",
            "X shape is: (789, 240, 240, 3)\n",
            "y shape is: (789, 1)\n"
          ]
        }
      ]
    },
    {
      "cell_type": "code",
      "source": [
        "#Load val data\n",
        "IMG_WIDTH, IMG_HEIGHT = (240, 240)\n",
        "X_val, y_val = load_data(['/content/val/yes', '/content/val/no'], (IMG_WIDTH, IMG_HEIGHT))"
      ],
      "metadata": {
        "colab": {
          "base_uri": "https://localhost:8080/"
        },
        "id": "XRpAU8SV3om2",
        "outputId": "5fe90437-bdaf-4e7c-b706-cf3051671931"
      },
      "execution_count": null,
      "outputs": [
        {
          "output_type": "stream",
          "name": "stdout",
          "text": [
            "Number of examples is: 789\n",
            "X shape is: (789, 240, 240, 3)\n",
            "y shape is: (789, 1)\n"
          ]
        }
      ]
    },
    {
      "cell_type": "code",
      "source": [
        "#Build our model\n",
        "model = Sequential()\n",
        "\n",
        "model.add(Conv2D(filters = 16, kernel_size = (3,3), activation = 'relu', input_shape = (240, 240, 3)))\n",
        "\n",
        "model.add(Conv2D(filters = 32, kernel_size = (3,3), activation = 'relu'))\n",
        "model.add(MaxPool2D(pool_size = (2,2)))\n",
        "\n",
        "model.add(Conv2D(filters = 64, kernel_size = (3,3), activation = 'relu'))\n",
        "model.add(MaxPool2D(pool_size = (2,2)))\n",
        "\n",
        "model.add(Conv2D(filters = 128, kernel_size = (3,3), activation = 'relu'))\n",
        "model.add(MaxPool2D(pool_size = (2,2)))\n",
        "\n",
        "model.add(Dropout(rate = 0.25))\n",
        "\n",
        "model.add(Flatten())\n",
        "model.add(Dense(units = 64, activation = 'relu'))\n",
        "model.add(Dropout(rate = 0.25)) \n",
        "model.add(Dense(units = 1, activation = 'sigmoid'))\n",
        "\n",
        "model.summary()"
      ],
      "metadata": {
        "id": "toWimo-h7Aau",
        "colab": {
          "base_uri": "https://localhost:8080/"
        },
        "outputId": "5e342ae8-2be9-4208-acf9-ac8a2fae2f97"
      },
      "execution_count": null,
      "outputs": [
        {
          "output_type": "stream",
          "name": "stdout",
          "text": [
            "Model: \"sequential\"\n",
            "_________________________________________________________________\n",
            " Layer (type)                Output Shape              Param #   \n",
            "=================================================================\n",
            " conv2d (Conv2D)             (None, 238, 238, 16)      448       \n",
            "                                                                 \n",
            " conv2d_1 (Conv2D)           (None, 236, 236, 32)      4640      \n",
            "                                                                 \n",
            " max_pooling2d (MaxPooling2D  (None, 118, 118, 32)     0         \n",
            " )                                                               \n",
            "                                                                 \n",
            " conv2d_2 (Conv2D)           (None, 116, 116, 64)      18496     \n",
            "                                                                 \n",
            " max_pooling2d_1 (MaxPooling  (None, 58, 58, 64)       0         \n",
            " 2D)                                                             \n",
            "                                                                 \n",
            " conv2d_3 (Conv2D)           (None, 56, 56, 128)       73856     \n",
            "                                                                 \n",
            " max_pooling2d_2 (MaxPooling  (None, 28, 28, 128)      0         \n",
            " 2D)                                                             \n",
            "                                                                 \n",
            " dropout (Dropout)           (None, 28, 28, 128)       0         \n",
            "                                                                 \n",
            " flatten (Flatten)           (None, 100352)            0         \n",
            "                                                                 \n",
            " dense (Dense)               (None, 64)                6422592   \n",
            "                                                                 \n",
            " dropout_1 (Dropout)         (None, 64)                0         \n",
            "                                                                 \n",
            " dense_1 (Dense)             (None, 1)                 65        \n",
            "                                                                 \n",
            "=================================================================\n",
            "Total params: 6,520,097\n",
            "Trainable params: 6,520,097\n",
            "Non-trainable params: 0\n",
            "_________________________________________________________________\n"
          ]
        }
      ]
    },
    {
      "cell_type": "code",
      "source": [
        "#Compile our model\n",
        "model.compile(optimizer = 'adam', loss = keras.losses.binary_crossentropy, metrics = ['accuracy'])"
      ],
      "metadata": {
        "id": "K5SV5ZSI3qhK"
      },
      "execution_count": null,
      "outputs": []
    },
    {
      "cell_type": "code",
      "source": [
        "#Early stopping and model checkpoint\n",
        "from keras.callbacks import ModelCheckpoint, EarlyStopping\n",
        "\n",
        "es = EarlyStopping(monitor = 'val_accuracy', min_delta = 0.01, patience = 5, verbose = 1, mode = 'auto')\n",
        "mc = ModelCheckpoint(monitor ='val_accuracy', filepath = './bestmodel.h5', verbose = 1, save_best_only = True, mode = 'auto')\n",
        "\n",
        "cd = [es, mc]"
      ],
      "metadata": {
        "id": "SKomaTn54mo9"
      },
      "execution_count": null,
      "outputs": []
    },
    {
      "cell_type": "code",
      "source": [
        "#Train our model\n",
        "hist = model.fit(x = X_train, y = y_train, batch_size = 32, epochs = 30, validation_data = (X_val, y_val), callbacks = cd, verbose = 1)"
      ],
      "metadata": {
        "id": "aG7ayhJg59bd",
        "colab": {
          "base_uri": "https://localhost:8080/"
        },
        "outputId": "9d5a4d15-2435-43e8-99da-2849a46adb05"
      },
      "execution_count": null,
      "outputs": [
        {
          "output_type": "stream",
          "name": "stdout",
          "text": [
            "Epoch 1/30\n",
            "116/116 [==============================] - ETA: 0s - loss: 0.4340 - accuracy: 0.7989\n",
            "Epoch 1: val_accuracy improved from -inf to 0.87072, saving model to ./bestmodel.h5\n",
            "116/116 [==============================] - 537s 5s/step - loss: 0.4340 - accuracy: 0.7989 - val_loss: 0.2923 - val_accuracy: 0.8707\n",
            "Epoch 2/30\n",
            "116/116 [==============================] - ETA: 0s - loss: 0.2295 - accuracy: 0.9188\n",
            "Epoch 2: val_accuracy improved from 0.87072 to 0.91508, saving model to ./bestmodel.h5\n",
            "116/116 [==============================] - 551s 5s/step - loss: 0.2295 - accuracy: 0.9188 - val_loss: 0.2178 - val_accuracy: 0.9151\n",
            "Epoch 3/30\n",
            "116/116 [==============================] - ETA: 0s - loss: 0.1611 - accuracy: 0.9384\n",
            "Epoch 3: val_accuracy improved from 0.91508 to 0.91888, saving model to ./bestmodel.h5\n",
            "116/116 [==============================] - 546s 5s/step - loss: 0.1611 - accuracy: 0.9384 - val_loss: 0.1958 - val_accuracy: 0.9189\n",
            "Epoch 4/30\n",
            "116/116 [==============================] - ETA: 0s - loss: 0.1047 - accuracy: 0.9585\n",
            "Epoch 4: val_accuracy improved from 0.91888 to 0.94297, saving model to ./bestmodel.h5\n",
            "116/116 [==============================] - 543s 5s/step - loss: 0.1047 - accuracy: 0.9585 - val_loss: 0.1560 - val_accuracy: 0.9430\n",
            "Epoch 5/30\n",
            "116/116 [==============================] - ETA: 0s - loss: 0.0795 - accuracy: 0.9710\n",
            "Epoch 5: val_accuracy improved from 0.94297 to 0.95691, saving model to ./bestmodel.h5\n",
            "116/116 [==============================] - 541s 5s/step - loss: 0.0795 - accuracy: 0.9710 - val_loss: 0.1870 - val_accuracy: 0.9569\n",
            "Epoch 6/30\n",
            "116/116 [==============================] - ETA: 0s - loss: 0.0460 - accuracy: 0.9826\n",
            "Epoch 6: val_accuracy improved from 0.95691 to 0.96831, saving model to ./bestmodel.h5\n",
            "116/116 [==============================] - 542s 5s/step - loss: 0.0460 - accuracy: 0.9826 - val_loss: 0.1778 - val_accuracy: 0.9683\n",
            "Epoch 7/30\n",
            "116/116 [==============================] - ETA: 0s - loss: 0.0271 - accuracy: 0.9902\n",
            "Epoch 7: val_accuracy did not improve from 0.96831\n",
            "116/116 [==============================] - 545s 5s/step - loss: 0.0271 - accuracy: 0.9902 - val_loss: 0.2059 - val_accuracy: 0.9620\n",
            "Epoch 8/30\n",
            "116/116 [==============================] - ETA: 0s - loss: 0.0292 - accuracy: 0.9900\n",
            "Epoch 8: val_accuracy improved from 0.96831 to 0.97085, saving model to ./bestmodel.h5\n",
            "116/116 [==============================] - 543s 5s/step - loss: 0.0292 - accuracy: 0.9900 - val_loss: 0.1898 - val_accuracy: 0.9708\n",
            "Epoch 9/30\n",
            "116/116 [==============================] - ETA: 0s - loss: 0.0177 - accuracy: 0.9940\n",
            "Epoch 9: val_accuracy improved from 0.97085 to 0.97212, saving model to ./bestmodel.h5\n",
            "116/116 [==============================] - 545s 5s/step - loss: 0.0177 - accuracy: 0.9940 - val_loss: 0.2392 - val_accuracy: 0.9721\n",
            "Epoch 10/30\n",
            "116/116 [==============================] - ETA: 0s - loss: 0.0248 - accuracy: 0.9910\n",
            "Epoch 10: val_accuracy did not improve from 0.97212\n",
            "116/116 [==============================] - 547s 5s/step - loss: 0.0248 - accuracy: 0.9910 - val_loss: 0.1669 - val_accuracy: 0.9708\n",
            "Epoch 11/30\n",
            "116/116 [==============================] - ETA: 0s - loss: 0.0252 - accuracy: 0.9908\n",
            "Epoch 11: val_accuracy did not improve from 0.97212\n",
            "116/116 [==============================] - 539s 5s/step - loss: 0.0252 - accuracy: 0.9908 - val_loss: 0.2421 - val_accuracy: 0.9632\n",
            "Epoch 11: early stopping\n"
          ]
        }
      ]
    },
    {
      "cell_type": "code",
      "source": [
        "#Plot the graphical interpretation\n",
        "h = hist.history\n",
        "plt.plot(h['accuracy'], label = 'accuracy')\n",
        "plt.plot(h['val_accuracy'], label = 'val-accuracy')\n",
        "plt.title('Accuracy vs Val Accuracy')\n",
        "plt.legend()\n",
        "plt.show()"
      ],
      "metadata": {
        "id": "_4QxlUwx6Ycw",
        "colab": {
          "base_uri": "https://localhost:8080/",
          "height": 281
        },
        "outputId": "18351292-55c9-4d2a-8f21-c83eb3edb45f"
      },
      "execution_count": null,
      "outputs": [
        {
          "output_type": "display_data",
          "data": {
            "text/plain": [
              "<Figure size 432x288 with 1 Axes>"
            ],
            "image/png": "[encoded data removed]"
          },
          "metadata": {
            "needs_background": "light"
          }
        }
      ]
    },
    {
      "cell_type": "code",
      "source": [
        "#Plot the graphical interpretation\n",
        "h = hist.history\n",
        "plt.plot(h['loss'], label = 'loss')\n",
        "plt.plot(h['val_loss'], label = 'val-loss')\n",
        "plt.title('Loss vs Val Loss')\n",
        "plt.legend()\n",
        "plt.show()"
      ],
      "metadata": {
        "id": "HYRzZ4FygXHF",
        "colab": {
          "base_uri": "https://localhost:8080/",
          "height": 281
        },
        "outputId": "ad44b2d9-0464-42c1-bea5-fd93766566fc"
      },
      "execution_count": null,
      "outputs": [
        {
          "output_type": "display_data",
          "data": {
            "text/plain": [
              "<Figure size 432x288 with 1 Axes>"
            ],
            "image/png": "[encoded data removed]"
          },
          "metadata": {
            "needs_background": "light"
          }
        }
      ]
    },
    {
      "cell_type": "code",
      "source": [
        "#Test our model on the test set\n",
        "from keras.models import load_model\n",
        "model = load_model('/content/bestmodel.h5')\n",
        "acc = model.evaluate(X_test, y_test)[1]\n",
        "print(f'The accuracy of our model is {acc}')"
      ],
      "metadata": {
        "id": "anoEl-hmgbTD",
        "colab": {
          "base_uri": "https://localhost:8080/"
        },
        "outputId": "848fe6a7-12a2-4904-d081-8972efb06a44"
      },
      "execution_count": null,
      "outputs": [
        {
          "output_type": "stream",
          "name": "stdout",
          "text": [
            "25/25 [==============================] - 27s 1s/step - loss: 0.1201 - accuracy: 0.9632\n",
            "The accuracy of our model is 0.963244616985321\n"
          ]
        }
      ]
    },
    {
      "cell_type": "code",
      "source": [
        "#Try our model on a random image that it has never seen before\n",
        "from keras.preprocessing.image import load_img, img_to_array\n",
        "#Choose a MRI image with tumor\n",
        "path = \"/content/test/yes/gg (100).jpg\"\n",
        "img_yes = load_img(path, target_size=(240,240))\n",
        "img_array_yes = img_to_array(img_yes)/255\n",
        "img_array_yes = np.expand_dims(img_array_yes, axis=0)\n",
        "prediction1 = model.predict(img_array_yes)\n",
        "class1 = np.round(prediction1).astype(int)\n",
        "if class1 == 0:\n",
        "  print(\"The MRI image doesn't have a Tumor\")\n",
        "else:\n",
        "  print(\"The MRI image has a tumor\")"
      ],
      "metadata": {
        "id": "hjf3ouUygf4c",
        "colab": {
          "base_uri": "https://localhost:8080/"
        },
        "outputId": "0fd0da48-242a-44bc-d8ca-f8a5925bd8f3"
      },
      "execution_count": null,
      "outputs": [
        {
          "output_type": "stream",
          "name": "stdout",
          "text": [
            "The MRI image has a tumor\n"
          ]
        }
      ]
    },
    {
      "cell_type": "code",
      "source": [
        "#Try our model on a random image that it has never seen before\n",
        "from keras.preprocessing.image import load_img, img_to_array\n",
        "#Choose a MRI image without tumor\n",
        "path = \"/content/test/no/Te-noTr_0001.jpg\"\n",
        "img_no = load_img(path, target_size=(240,240))\n",
        "img_array_no = img_to_array(img_no)/255\n",
        "img_array_no = np.expand_dims(img_array_no, axis=0)\n",
        "prediction2 = model.predict(img_array_no)[0][0]\n",
        "class2 = np.round(prediction2).astype(int)\n",
        "if class2 == 0:\n",
        "  print(\"The MRI image doesn't have a Tumor\")\n",
        "else:\n",
        "  print(\"The MRI image has a tumor\")"
      ],
      "metadata": {
        "colab": {
          "base_uri": "https://localhost:8080/"
        },
        "id": "7AE5c6COAEzw",
        "outputId": "348231a7-3b95-49fc-8db1-6dfe30c8e1f6"
      },
      "execution_count": null,
      "outputs": [
        {
          "output_type": "stream",
          "name": "stdout",
          "text": [
            "The MRI image doesn't have a Tumor\n"
          ]
        }
      ]
    },
    {
      "cell_type": "code",
      "source": [],
      "metadata": {
        "id": "WXm8D83WCkze"
      },
      "execution_count": null,
      "outputs": []
    }
  ]
}